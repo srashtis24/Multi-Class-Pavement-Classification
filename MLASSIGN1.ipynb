{
 "cells": [
  {
   "cell_type": "markdown",
   "id": "8cbcf6ed-015e-44a0-85eb-0e25e7e42c27",
   "metadata": {},
   "source": [
    "## Srashti Singh\n",
    "## 241030083\n",
    "## Kaggle ID:25048810"
   ]
  },
  {
   "cell_type": "code",
   "execution_count": 55,
   "id": "6f412ab4-ba78-4703-bb54-07c4cd836ee3",
   "metadata": {},
   "outputs": [],
   "source": [
    "# Import necessary libraries\n",
    "import numpy as np\n",
    "import pandas as pd\n",
    "import matplotlib.pyplot as plt\n",
    "import seaborn as sns\n",
    "from sklearn.model_selection import train_test_split\n",
    "from sklearn.preprocessing import StandardScaler\n",
    "from sklearn.linear_model import LogisticRegression\n",
    "from sklearn.neural_network import MLPClassifier\n",
    "from sklearn.metrics import f1_score, classification_report\n"
   ]
  },
  {
   "cell_type": "code",
   "execution_count": 57,
   "id": "135a0aca-c4ab-4fcb-a41e-5046472ebb49",
   "metadata": {},
   "outputs": [
    {
     "name": "stdout",
     "output_type": "stream",
     "text": [
      "Current working directory: C:\\Users\\Hp\\Downloads\\ts_classification_pavement_ce784_114fff2c-c186-4332-a225-b273f0cca04b\n",
      "Files in current directory: ['.ipynb_checkpoints', 'assignment11.ipynb', 'MLASSIGN1.ipynb', 'submission.csv', 'Untitled.ipynb', 'upload', '__MACOSX']\n",
      "✅ 'train.txt' found. Proceeding with loading.\n"
     ]
    }
   ],
   "source": [
    "import os\n",
    "\n",
    "# Check the current directory\n",
    "print(\"Current working directory:\", os.getcwd())\n",
    "\n",
    "# Check if 'train.txt' exists in the directory\n",
    "print(\"Files in current directory:\", os.listdir())\n",
    "\n",
    "# Verify if the file is found\n",
    "train_path = \"upload/train.txt\"\n",
    "test_path = \"upload/test.txt\"\n",
    "\n",
    "if not os.path.exists(train_path):\n",
    "    print(\"❌ ERROR: The file 'train.txt' was not found! Check the file path.\")\n",
    "else:\n",
    "    print(\"✅ 'train.txt' found. Proceeding with loading.\")\n"
   ]
  },
  {
   "cell_type": "code",
   "execution_count": 59,
   "id": "c9692ad6-bbe3-41ca-9097-5b1977eb3a0e",
   "metadata": {},
   "outputs": [
    {
     "name": "stdout",
     "output_type": "stream",
     "text": [
      "✅ Found 'upload/train.txt'.\n",
      "Unique column counts in train.txt: {98, 99, 100, 101, 103, 105, 107, 108, 110, 111, 112, 113, 114, 115, 116, 118, 122, 124, 125, 126, 127, 129, 130, 131, 133, 134, 135, 136, 137, 138, 139, 140, 142, 146, 147, 154, 156, 157, 161, 168, 176, 179, 180, 181, 182, 184, 185, 186, 187, 189, 190, 191, 192, 193, 194, 195, 196, 197, 198, 199, 200, 201, 202, 203, 204, 205, 207, 210, 215, 216, 218, 221, 222, 223, 224, 225, 226, 227, 228, 229, 231, 232, 233, 234, 235, 236, 237, 238, 239, 240, 241, 242, 243, 245, 246, 247, 248, 249, 250, 251, 252, 253, 254, 255, 256, 257, 258, 259, 260, 261, 262, 264, 265, 266, 267, 268, 270, 271, 272, 273, 274, 275, 276, 277, 279, 280, 282, 283, 284, 285, 286, 287, 288, 289, 290, 291, 292, 293, 294, 296, 297, 299, 300, 301, 302, 303, 304, 305, 306, 307, 309, 312, 313, 314, 315, 318, 320, 321, 322, 323, 324, 325, 326, 327, 328, 329, 330, 331, 332, 334, 336, 337, 338, 339, 340, 341, 342, 343, 344, 345, 346, 347, 349, 350, 351, 353, 355, 356, 357, 358, 359, 360, 362, 363, 365, 366, 367, 368, 369, 370, 371, 374, 377, 378, 379, 381, 382, 383, 384, 385, 387, 388, 389, 390, 391, 392, 393, 394, 395, 396, 397, 398, 399, 400, 401, 402, 403, 404, 405, 406, 407, 408, 409, 410, 411, 412, 413, 414, 415, 416, 417, 418, 419, 420, 421, 422, 423, 424, 425, 426, 428, 429, 430, 431, 432, 433, 434, 435, 436, 437, 438, 439, 440, 441, 442, 443, 444, 445, 446, 447, 448, 449, 450, 451, 452, 453, 454, 455, 456, 457, 458, 459, 460, 461, 462, 463, 464, 465, 466, 467, 468, 469, 470, 471, 472, 473, 474, 475, 476, 477, 478, 480, 481, 482, 483, 484, 485, 486, 487, 488, 489, 490, 491, 492, 493, 494, 495, 496, 497, 498, 499, 500, 501, 502, 503, 504, 505, 506, 507, 508, 509, 510, 511, 512, 513, 514, 515, 516, 517, 518, 519, 520, 521, 522, 523, 524, 525, 526, 527, 528, 529, 530, 531, 532, 533, 534, 535, 536, 538, 539, 541, 542, 544, 545, 546, 547, 548, 550, 551, 552, 553, 554, 556, 558, 559, 561, 563, 564, 565, 567, 568, 569, 570, 572, 573, 575, 577, 578, 579, 580, 581, 582, 583, 584, 586, 587, 588, 590, 591, 592, 594, 596, 598, 599, 600, 602, 604, 607, 609, 610, 611, 613, 614, 616, 618, 620, 621, 622, 623, 624, 625, 627, 628, 634, 635, 636, 641, 642, 646, 647, 648, 649, 652, 657, 662, 663, 664, 676, 678, 680, 682, 684, 685, 686, 688, 695, 708, 710, 716, 718, 722, 724, 730, 740, 743, 756, 767, 782, 787, 800, 824, 827, 842, 953, 958, 959, 989, 995, 1130, 1545}\n"
     ]
    }
   ],
   "source": [
    "import os\n",
    "\n",
    "# Check if the file exists\n",
    "train_path = \"upload/train.txt\"\n",
    "test_path = \"upload/test.txt\"\n",
    "\n",
    "if not os.path.exists(train_path):\n",
    "    print(f\"❌ ERROR: The file '{train_path}' does not exist!\")\n",
    "else:\n",
    "    print(f\"✅ Found '{train_path}'.\")\n",
    "\n",
    "# Check column inconsistencies\n",
    "with open(train_path, \"r\", encoding=\"utf-8\") as file:\n",
    "    lines = file.readlines()\n",
    "\n",
    "column_counts = [len(line.split(\",\")) for line in lines]\n",
    "print(\"Unique column counts in train.txt:\", set(column_counts))  # Should be one unique value\n"
   ]
  },
  {
   "cell_type": "code",
   "execution_count": 61,
   "id": "74cacc50-3be1-4f0f-a0e4-62e42cec5e16",
   "metadata": {},
   "outputs": [],
   "source": [
    "# Step 1: Load dataset correctly\n",
    "def load_data(train_path=\"upload/train.txt\", test_path=\"upload/test.txt\"):\n",
    "    # Detect correct column count\n",
    "    with open(train_path, \"r\", encoding=\"utf-8\") as file:\n",
    "        lines = file.readlines()\n",
    "    expected_columns = min([len(line.split(\",\")) for line in lines])  # Use the most common column count\n",
    "\n",
    "    # Read file with fixed column count\n",
    "    train_df = pd.read_csv(train_path, sep=\",\", header=None, usecols=range(expected_columns))\n",
    "    test_df = pd.read_csv(test_path, sep=\",\", header=None, usecols=range(expected_columns))\n",
    "\n",
    "    print(f\"✅ Train and test datasets loaded successfully with {expected_columns} columns.\")\n",
    "    return train_df, test_df\n",
    "\n"
   ]
  },
  {
   "cell_type": "code",
   "execution_count": 63,
   "id": "7c3aaaa3-db4a-4c45-9b36-283e4e823a8b",
   "metadata": {},
   "outputs": [],
   "source": [
    "# Step 2: Extract Features\n",
    "\n",
    "def extract_features(data):\n",
    "    \"\"\"Extract statistical and frequency-based features from time series data.\"\"\"\n",
    "    features = pd.DataFrame()\n",
    "    \n",
    "    # Statistical Features\n",
    "    features['mean'] = data.iloc[:, 2:].mean(axis=1)\n",
    "    features['std'] = data.iloc[:, 2:].std(axis=1)\n",
    "    features['max'] = data.iloc[:, 2:].max(axis=1)\n",
    "    features['min'] = data.iloc[:, 2:].min(axis=1)\n",
    "    features['median'] = data.iloc[:, 2:].median(axis=1)\n",
    "    features['range'] = features['max'] - features['min']\n",
    "    features['iqr'] = data.iloc[:, 2:].quantile(0.75, axis=1) - data.iloc[:, 2:].quantile(0.25, axis=1)\n",
    "    features['variance'] = data.iloc[:, 2:].var(axis=1)\n",
    "    \n",
    "    # Frequency Domain Features (Fourier Transform)\n",
    "    fft_vals = np.abs(np.fft.fft(data.iloc[:, 2:], axis=1))\n",
    "    features['fft_mean'] = fft_vals.mean(axis=1)\n",
    "    features['fft_std'] = fft_vals.std(axis=1)\n",
    "    features['fft_max'] = fft_vals.max(axis=1)\n",
    "    \n",
    "    return features\n"
   ]
  },
  {
   "cell_type": "code",
   "execution_count": 65,
   "id": "a4d210cd-2e23-4bed-b22a-876d8eaaecac",
   "metadata": {},
   "outputs": [],
   "source": [
    "# Step 3: Preprocess Dataset\n",
    "\n",
    "from sklearn.feature_selection import SelectKBest, f_classif\n",
    "from imblearn.over_sampling import SMOTE\n",
    "from sklearn.preprocessing import StandardScaler\n",
    "\n",
    "def preprocess_data(train_path=\"train.txt\", test_path=\"test.txt\"):\n",
    "    train_df, test_df = load_data(train_path, test_path)\n",
    "    \n",
    "    X_train = extract_features(train_df)\n",
    "    y_train = train_df.iloc[:, 1]  # Class labels\n",
    "    X_test = extract_features(test_df)\n",
    "\n",
    "    # Fill missing values with column means\n",
    "    X_train.fillna(X_train.mean(), inplace=True)\n",
    "    X_test.fillna(X_test.mean(), inplace=True)\n",
    "\n",
    "    # Feature Selection: Keep only top 10 best features\n",
    "    selector = SelectKBest(f_classif, k=10)  # Selects 10 most relevant features\n",
    "    X_train_selected = selector.fit_transform(X_train, y_train)\n",
    "    X_test_selected = selector.transform(X_test)\n",
    "\n",
    "    # ✅ Apply SMOTE *AFTER* feature selection\n",
    "    sm = SMOTE(random_state=42)\n",
    "    X_train_resampled, y_train_resampled = sm.fit_resample(X_train_selected, y_train)\n",
    "\n",
    "    # ✅ Standardize only AFTER resampling\n",
    "    scaler = StandardScaler()\n",
    "    X_train_final = scaler.fit_transform(X_train_resampled)\n",
    "    X_test_final = scaler.transform(X_test_selected)\n",
    "\n",
    "    return X_train_final, y_train_resampled, X_test_final, test_df\n",
    "\n",
    "\n"
   ]
  },
  {
   "cell_type": "code",
   "execution_count": 73,
   "id": "b52da9fb-6727-4918-9965-01cad20e093e",
   "metadata": {},
   "outputs": [
    {
     "name": "stdout",
     "output_type": "stream",
     "text": [
      "✅ Train and test datasets loaded successfully with 98 columns.\n",
      "Cross-validated ANN F1-score: 0.7653803176688245\n"
     ]
    }
   ],
   "source": [
    "# Step 4: Train and Evaluate Model\n",
    "\n",
    "from sklearn.model_selection import cross_val_score\n",
    "\n",
    "def train_and_evaluate(train_path=\"upload/train.txt\", test_path=\"upload/test.txt\"):\n",
    "    X_train, y_train, X_test, test_df = preprocess_data(train_path, test_path)\n",
    "    \n",
    "    # Logistic Regression\n",
    "    lr_model = LogisticRegression(C=0.5, solver='liblinear', max_iter=2000)\n",
    "    lr_model.fit(X_train, y_train)\n",
    "\n",
    "    # ANN Model\n",
    "    ann_model = MLPClassifier(hidden_layer_sizes=(256, 128, 64, 32), activation='tanh',\n",
    "                          solver='adam', max_iter=4000, alpha=0.00001,\n",
    "                          learning_rate_init=0.0002, batch_size=32)\n",
    "    ann_model.fit(X_train, y_train)\n",
    "\n",
    "    return ann_model, X_train, y_train, X_test, test_df\n",
    "\n",
    "# Train the models first\n",
    "ann_model, X_train, y_train, X_test, test_df = train_and_evaluate()\n",
    "\n",
    "# Now, run cross-validation on ANN\n",
    "cv_scores = cross_val_score(ann_model, X_train, y_train, cv=5, scoring='f1_weighted')\n",
    "print(\"Cross-validated ANN F1-score:\", np.mean(cv_scores))\n"
   ]
  },
  {
   "cell_type": "code",
   "execution_count": 77,
   "id": "2c21de12-e208-4f00-9cb3-ddf69993ba9f",
   "metadata": {},
   "outputs": [],
   "source": [
    "# Step 5: Generate predictions and create submission file\n",
    "def create_submission(model, X_test, test_df, filename=\"submission.csv\"):\n",
    "    y_pred = model.predict(X_test)\n",
    "    submission = pd.DataFrame({\"index\": test_df.iloc[:, 0], \"label\": y_pred})\n",
    "    submission.to_csv(filename, index=False)\n",
    "    print(f\"Submission file saved as {filename}\")\n"
   ]
  },
  {
   "cell_type": "code",
   "execution_count": null,
   "id": "5de1edb0-e21c-4ef4-b6a8-ed1b26886f8d",
   "metadata": {
    "scrolled": true
   },
   "outputs": [
    {
     "name": "stdout",
     "output_type": "stream",
     "text": [
      "✅ Train and test datasets loaded successfully with 98 columns.\n",
      "Submission file saved as submission.csv\n"
     ]
    }
   ],
   "source": [
    "# Step 6: Run the pipeline\n",
    "if __name__ == \"__main__\":\n",
    "    ann_model, X_train, y_train, X_test, test_df = train_and_evaluate()\n",
    "    create_submission(ann_model, X_test, test_df)\n",
    "\n",
    "    # Run cross-validation\n",
    "    cv_scores = cross_val_score(ann_model, X_train, y_train, cv=5, scoring='f1_weighted')\n",
    "    print(\"Cross-validated ANN F1-score:\", np.mean(cv_scores))\n"
   ]
  },
  {
   "cell_type": "code",
   "execution_count": null,
   "id": "1cf8bc9a-09e7-4d63-8ca6-7d4f32bc0222",
   "metadata": {},
   "outputs": [],
   "source": []
  },
  {
   "cell_type": "code",
   "execution_count": null,
   "id": "3176a7b9-3057-434f-b752-0b0804b314be",
   "metadata": {},
   "outputs": [],
   "source": []
  }
 ],
 "metadata": {
  "kernelspec": {
   "display_name": "Python [conda env:base] *",
   "language": "python",
   "name": "conda-base-py"
  },
  "language_info": {
   "codemirror_mode": {
    "name": "ipython",
    "version": 3
   },
   "file_extension": ".py",
   "mimetype": "text/x-python",
   "name": "python",
   "nbconvert_exporter": "python",
   "pygments_lexer": "ipython3",
   "version": "3.12.3"
  }
 },
 "nbformat": 4,
 "nbformat_minor": 5
}
