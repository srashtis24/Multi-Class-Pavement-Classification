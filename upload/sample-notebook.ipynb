{
 "cells": [
  {
   "cell_type": "markdown",
   "id": "4c1bd74e",
   "metadata": {},
   "source": [
    "### Name: Pranamesh Chakraborty\n",
    "### Roll Number: 2210000\n",
    "### Kaggle User ID: ..."
   ]
  },
  {
   "cell_type": "code",
   "execution_count": 1,
   "id": "02087648",
   "metadata": {},
   "outputs": [],
   "source": [
    "#import libraries\n",
    "import pandas as pd\n",
    "import numpy as np\n",
    "import re"
   ]
  },
  {
   "cell_type": "markdown",
   "id": "0060f1fc",
   "metadata": {},
   "source": [
    "### Question 1: Dataset reading"
   ]
  },
  {
   "cell_type": "code",
   "execution_count": 2,
   "id": "968c4e12",
   "metadata": {},
   "outputs": [],
   "source": [
    "## Insert your code to read the data. \n",
    "#Provide neccessary comments for the steps"
   ]
  },
  {
   "cell_type": "markdown",
   "id": "19d84c8b",
   "metadata": {},
   "source": [
    "### Question 2: Features generation"
   ]
  },
  {
   "cell_type": "markdown",
   "id": "dba34ec8",
   "metadata": {},
   "source": [
    "In this assignment, I have tried three features . The first feature ...\n",
    "(Note, the text is provided for reference only)"
   ]
  },
  {
   "cell_type": "code",
   "execution_count": null,
   "id": "398e75a1",
   "metadata": {},
   "outputs": [],
   "source": [
    "#Provide your code here"
   ]
  }
 ],
 "metadata": {
  "kernelspec": {
   "display_name": "Python [conda env:base] *",
   "language": "python",
   "name": "conda-base-py"
  },
  "language_info": {
   "codemirror_mode": {
    "name": "ipython",
    "version": 3
   },
   "file_extension": ".py",
   "mimetype": "text/x-python",
   "name": "python",
   "nbconvert_exporter": "python",
   "pygments_lexer": "ipython3",
   "version": "3.12.7"
  }
 },
 "nbformat": 4,
 "nbformat_minor": 5
}
