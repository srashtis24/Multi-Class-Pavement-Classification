{
 "cells": [
  {
   "cell_type": "markdown",
   "id": "4c1bd74e",
   "metadata": {},
   "source": [
    "### Name: Pranamesh Chakraborty\n",
    "### Roll Number: 2210000\n",
    "### Kaggle User ID: ..."
   ]
  },
  {
   "cell_type": "code",
   "execution_count": 1,
   "id": "02087648",
   "metadata": {},
   "outputs": [],
   "source": [
    "#import libraries\n",
    "import pandas as pd\n",
    "import numpy as np\n",
    "import re"
   ]
  },
  {
   "cell_type": "markdown",
   "id": "5ca67bd2",
   "metadata": {},
   "source": [
    "### Question 1: Dataset reading"
   ]
  },
  {
   "cell_type": "code",
   "execution_count": 2,
   "id": "968c4e12",
   "metadata": {},
   "outputs": [],
   "source": [
    "## Insert your code to read the data. Provide neccessary comments for the steps"
   ]
  },
  {
   "cell_type": "markdown",
   "id": "3cac189f",
   "metadata": {},
   "source": [
    "### Question 2: Features generation"
   ]
  },
  {
   "cell_type": "markdown",
   "id": "2fb6e644",
   "metadata": {},
   "source": [
    "In this assignment, I have tried three features . The first feature ...\n",
    "(Note, the text is provided for reference only)"
   ]
  },
  {
   "cell_type": "code",
   "execution_count": null,
   "id": "b383a844",
   "metadata": {},
   "outputs": [],
   "source": [
    "#Provide your code here"
   ]
  }
 ],
 "metadata": {
  "kernelspec": {
   "display_name": "Python 3",
   "language": "python",
   "name": "python3"
  },
  "language_info": {
   "codemirror_mode": {
    "name": "ipython",
    "version": 3
   },
   "file_extension": ".py",
   "mimetype": "text/x-python",
   "name": "python",
   "nbconvert_exporter": "python",
   "pygments_lexer": "ipython3",
   "version": "3.8.8"
  }
 },
 "nbformat": 4,
 "nbformat_minor": 5
}
