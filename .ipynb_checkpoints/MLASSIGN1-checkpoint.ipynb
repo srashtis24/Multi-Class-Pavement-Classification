{
 "cells": [
  {
   "cell_type": "code",
   "execution_count": 2,
   "id": "6f412ab4-ba78-4703-bb54-07c4cd836ee3",
   "metadata": {},
   "outputs": [],
   "source": [
    "import pandas as pd\n",
    "import numpy as np\n",
    "import matplotlib.pyplot as plt\n",
    "import seaborn as sns\n",
    "from sklearn.model_selection import train_test_split\n",
    "from sklearn.preprocessing import StandardScaler\n",
    "from sklearn.linear_model import LogisticRegression\n",
    "from sklearn.metrics import accuracy_score, f1_score"
   ]
  },
  {
   "cell_type": "code",
   "execution_count": 4,
   "id": "135a0aca-c4ab-4fcb-a41e-5046472ebb49",
   "metadata": {},
   "outputs": [],
   "source": [
    "\n",
    "import os\n",
    "\n",
    "# Step 1: Load dataset correctly\n",
    "def load_data(train_path, test_path):\n",
    "    # Automatically detect the correct number of columns\n",
    "    with open(train_path, \"r\", encoding=\"utf-8\") as file:\n",
    "        lines = file.readlines()\n",
    "    expected_columns = min([len(line.split(\",\")) for line in lines])  # Use min column count\n",
    "\n",
    "    # Load dataset with corrected column count\n",
    "    train_df = pd.read_csv(train_path, sep=\",\", header=None, usecols=range(expected_columns))\n",
    "    test_df = pd.read_csv(test_path, sep=\",\", header=None, usecols=range(expected_columns))\n",
    "\n",
    "    print(\"✅ Train and test datasets loaded successfully with\", expected_columns, \"columns.\")\n",
    "    return train_df, test_df\n"
   ]
  },
  {
   "cell_type": "code",
   "execution_count": 6,
   "id": "c9692ad6-bbe3-41ca-9097-5b1977eb3a0e",
   "metadata": {},
   "outputs": [],
   "source": [
    "# Step 2: Preprocess dataset\n",
    "def preprocess_data(train_df, test_df):\n",
    "    # Ensure correct data format\n",
    "    train_df.iloc[:, 2:] = train_df.iloc[:, 2:].apply(pd.to_numeric, errors='coerce')\n",
    "    test_df.iloc[:, 1:] = test_df.iloc[:, 1:].apply(pd.to_numeric, errors='coerce')\n",
    "    return train_df, test_df"
   ]
  },
  {
   "cell_type": "code",
   "execution_count": 8,
   "id": "de4315ab-3027-4067-af14-5a9d982df0a8",
   "metadata": {},
   "outputs": [],
   "source": [
    "# Step 3: Extract features\n",
    "def extract_features(df):\n",
    "    df_numeric = df.iloc[:, 2:].select_dtypes(include=[np.number])\n",
    "    features = df_numeric.apply(lambda row: [row.mean(), row.std(), row.min(), row.max()], axis=1)\n",
    "    feature_df = pd.DataFrame(features.tolist(), columns=['mean', 'std', 'min', 'max'])\n",
    "    return feature_df\n"
   ]
  },
  {
   "cell_type": "code",
   "execution_count": 10,
   "id": "b93d689a-b6f7-4961-8995-0d6f0ec2bf4d",
   "metadata": {},
   "outputs": [],
   "source": [
    "# Step 4: Train model\n",
    "def train_model(X_train, y_train):\n",
    "    scaler = StandardScaler()\n",
    "    X_train_scaled = scaler.fit_transform(X_train)\n",
    "    model = LogisticRegression(max_iter=500)\n",
    "    model.fit(X_train_scaled, y_train)\n",
    "    return model, scaler\n"
   ]
  },
  {
   "cell_type": "code",
   "execution_count": 12,
   "id": "95c6fd02-6bef-4799-ac94-ccde2ac34cec",
   "metadata": {},
   "outputs": [],
   "source": [
    "# Step 5: Evaluate model\n",
    "def evaluate_model(model, scaler, X_val, y_val):\n",
    "    X_val_scaled = scaler.transform(X_val)\n",
    "    y_pred = model.predict(X_val_scaled)\n",
    "    accuracy = accuracy_score(y_val, y_pred)\n",
    "    f1 = f1_score(y_val, y_pred, average='weighted')\n",
    "    return accuracy, f1\n"
   ]
  },
  {
   "cell_type": "code",
   "execution_count": 14,
   "id": "f7d505bb-2698-43df-8772-8897cd9af5ca",
   "metadata": {},
   "outputs": [
    {
     "name": "stdout",
     "output_type": "stream",
     "text": [
      "✅ Train and test datasets loaded successfully with 98 columns.\n",
      "✅ Model Accuracy: 0.7441\n",
      "✅ Model F1-score: 0.7414\n",
      "✅ Submission file 'submission.csv' created successfully!\n",
      "🔍 First few rows of submission file:\n",
      "    index        label\n",
      "0      0  cobblestone\n",
      "1      1  cobblestone\n",
      "2      2         dirt\n",
      "3      3         dirt\n",
      "4      4         dirt\n"
     ]
    }
   ],
   "source": [
    "# Step 6: Main execution\n",
    "train_path = 'upload/train.txt'\n",
    "test_path = 'upload/test.txt'\n",
    "\n",
    "# Load data\n",
    "train_df, test_df = load_data(train_path, test_path)\n",
    "\n",
    "# Preprocess data\n",
    "train_df, test_df = preprocess_data(train_df, test_df)\n",
    "\n",
    "# Extract features\n",
    "X_train = extract_features(train_df)\n",
    "y_train = train_df.iloc[:, 1]\n",
    "X_test = extract_features(test_df)\n",
    "\n",
    "# Split data for validation\n",
    "X_train_split, X_val, y_train_split, y_val = train_test_split(X_train, y_train, test_size=0.2, random_state=42)\n",
    "\n",
    "# Train model\n",
    "model, scaler = train_model(X_train_split, y_train_split)\n",
    "\n",
    "# Evaluate model\n",
    "accuracy, f1 = evaluate_model(model, scaler, X_val, y_val)\n",
    "print(f'✅ Model Accuracy: {accuracy:.4f}')\n",
    "print(f'✅ Model F1-score: {f1:.4f}')\n",
    "\n",
    "# Standardize X_test using the same scaler\n",
    "X_test_scaled = scaler.transform(X_test)\n",
    "# Make predictions\n",
    "test_predictions = model.predict(X_test_scaled)\n",
    "\n",
    "# Format the predictions correctly\n",
    "submission_df = pd.DataFrame({\n",
    "    'index': np.arange(len(test_predictions)),  # Ensure index is integer\n",
    "    'label': test_predictions                   # Ensure labels are in string format\n",
    "})\n",
    "\n",
    "# Save as CSV\n",
    "submission_df.to_csv(\"submission.csv\", index=False)\n",
    "print(\"✅ Submission file 'submission.csv' created successfully!\")\n",
    "\n",
    "# Verify output\n",
    "print(\"🔍 First few rows of submission file:\\n\", submission_df.head())"
   ]
  },
  {
   "cell_type": "code",
   "execution_count": null,
   "id": "74cacc50-3be1-4f0f-a0e4-62e42cec5e16",
   "metadata": {},
   "outputs": [],
   "source": []
  }
 ],
 "metadata": {
  "kernelspec": {
   "display_name": "Python [conda env:base] *",
   "language": "python",
   "name": "conda-base-py"
  },
  "language_info": {
   "codemirror_mode": {
    "name": "ipython",
    "version": 3
   },
   "file_extension": ".py",
   "mimetype": "text/x-python",
   "name": "python",
   "nbconvert_exporter": "python",
   "pygments_lexer": "ipython3",
   "version": "3.12.7"
  }
 },
 "nbformat": 4,
 "nbformat_minor": 5
}
